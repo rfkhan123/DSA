{
  "nbformat": 4,
  "nbformat_minor": 0,
  "metadata": {
    "colab": {
      "provenance": []
    },
    "kernelspec": {
      "name": "python3",
      "display_name": "Python 3"
    },
    "language_info": {
      "name": "python"
    }
  },
  "cells": [
    {
      "cell_type": "code",
      "execution_count": 9,
      "metadata": {
        "colab": {
          "base_uri": "https://localhost:8080/"
        },
        "id": "OQsmaZ5Td0mu",
        "outputId": "2982d9b4-fe0d-4d21-e2d7-1333bd9de955"
      },
      "outputs": [
        {
          "output_type": "stream",
          "name": "stdout",
          "text": [
            "Enter number for first matrix : 1\n",
            "Enter number for second matrix : 2\n",
            "Enter number for first matrix : 3\n",
            "Enter number for second matrix : 4\n",
            "Enter number for first matrix : 5\n",
            "Enter number for second matrix : 6\n",
            "Enter number for first matrix : 7\n",
            "Enter number for second matrix : 8\n",
            "Enter number for first matrix : 9\n",
            "Enter number for second matrix : 10\n",
            "Enter number for first matrix : 11\n",
            "Enter number for second matrix : 12\n",
            "[[14 18 22]\n",
            " [22 26 30]\n",
            " [30 34 38]]\n"
          ]
        }
      ],
      "source": [
        "import numpy as np\n",
        "a=[]\n",
        "b=[]\n",
        "c=[0,0,0,0,0,0,0,0,0]\n",
        "\n",
        "for i in range(0,6):\n",
        "  x=int(input(\"Enter number for first matrix : \"))\n",
        "  y=int(input(\"Enter number for second matrix : \"))\n",
        "  a.append(x)\n",
        "  b.append(y)\n",
        "\n",
        "Arra = np.array([a])\n",
        "Arrb = np.array([b])\n",
        "Arrc = np.array([c])\n",
        "\n",
        "Arr1 = Arra.reshape(3,2)\n",
        "Arr2 = Arrb.reshape(2,3)\n",
        "Arr3 = Arrc.reshape(3,3)\n",
        "\n",
        "for i in range(0,3):\n",
        "  for j in range(0,3):\n",
        "    for k in range(0,2):\n",
        "      Arr3[i][j] += Arr1[i][k] + Arr2[k][j]\n",
        "print(Arr3)"
      ]
    },
    {
      "cell_type": "code",
      "source": [
        "def Humpty_Dumpty(n):\n",
        "  if n%3==0 and n%5==0:\n",
        "    return \"Humpty_Dumpty\"\n",
        "  elif n%3==0:\n",
        "    return \"Humpty\"\n",
        "  elif n%5==0:\n",
        "    return \"Dumpty\"\n",
        "  else :\n",
        "    return n\n",
        "n=int(input(\"Enter number \"))\n",
        "print(Humpty_Dumpty(n))"
      ],
      "metadata": {
        "colab": {
          "base_uri": "https://localhost:8080/"
        },
        "id": "oc-rCtMme9Zq",
        "outputId": "05dcb97f-9acd-458e-f29b-1e4f5053f7f9"
      },
      "execution_count": 12,
      "outputs": [
        {
          "output_type": "stream",
          "name": "stdout",
          "text": [
            "Enter number 65\n",
            "Dumpty\n"
          ]
        }
      ]
    },
    {
      "cell_type": "code",
      "source": [
        "def ans(x):\n",
        "  sum = 0\n",
        "  for i in range(0,x+1):\n",
        "    if i%3==0 or i%5==0:\n",
        "      sum += i\n",
        "  return sum\n",
        "x=int(input(\"Enter number \"))\n",
        "print(ans(x))"
      ],
      "metadata": {
        "colab": {
          "base_uri": "https://localhost:8080/"
        },
        "id": "9BAUtLW-hm27",
        "outputId": "591e77c2-de4a-4de3-cc7d-9a06a2727f58"
      },
      "execution_count": 15,
      "outputs": [
        {
          "output_type": "stream",
          "name": "stdout",
          "text": [
            "Enter number 20\n",
            "98\n"
          ]
        }
      ]
    },
    {
      "cell_type": "code",
      "source": [
        "import matplotlib.pyplot as plt\n",
        "import pandas as pd\n",
        "from sklearn.linear_model import LinearRegression\n",
        "\n",
        "data = pd.read_csv('/content/ML.txt',sep=' ')\n",
        "\n",
        "x=data.iloc[:,0:1]\n",
        "y=data.iloc[:,1:2]\n",
        "\n",
        "SLR=LinearRegression()\n",
        "SLR.fit(x,y)\n",
        "c=SLR.intercept_\n",
        "m=SLR.coef_\n",
        "\n",
        "plt.scatter(x,y)\n",
        "plt.plot(x,m*x+c)\n"
      ],
      "metadata": {
        "colab": {
          "base_uri": "https://localhost:8080/",
          "height": 465
        },
        "id": "cOC78AxWiF_G",
        "outputId": "65fecbef-efaf-45b5-d49a-3408b171f735"
      },
      "execution_count": 37,
      "outputs": [
        {
          "output_type": "stream",
          "name": "stdout",
          "text": [
            "[[1.]] [1.]\n"
          ]
        },
        {
          "output_type": "execute_result",
          "data": {
            "text/plain": [
              "[<matplotlib.lines.Line2D at 0x7c5b400bc280>]"
            ]
          },
          "metadata": {},
          "execution_count": 37
        },
        {
          "output_type": "display_data",
          "data": {
            "text/plain": [
              "<Figure size 640x480 with 1 Axes>"
            ],
            "image/png": "[encoded data removed]"
          },
          "metadata": {}
        }
      ]
    },
    {
      "cell_type": "code",
      "source": [
        "import numpy as np\n",
        "import matplotlib.pyplot as plt\n",
        "import random\n",
        "import pandas as pd\n",
        "\n",
        "data=pd.read_csv('/content/ML.txt',sep=' ')\n",
        "\n",
        "x=(data.iloc[:,0:1]).values\n",
        "y=(data.iloc[:,1:2]).values\n",
        "\n",
        "a = 0.1/(np.std(x)*np.std(y))\n",
        "k = len(x)\n",
        "\n",
        "def ssd(m,c,z):\n",
        " sum = np.sum(((m*x+c-y))/(k)*z)\n",
        " return sum\n",
        "\n",
        "def mse(m,c):\n",
        "  sum=np.sum((m*x+c-y)**2)/(2*k)\n",
        "  return sum\n",
        "\n",
        "def DJ1(m,c,z):\n",
        "  J=ssd(m,c,z)\n",
        "  if m < 0:\n",
        "    return -1*J\n",
        "  else :\n",
        "    return J\n",
        "\n",
        "def DJ0(m,c,z):\n",
        "  J=ssd(m,c,z)\n",
        "  return J\n",
        "\n",
        "m = 0\n",
        "c = 0\n",
        "while (abs(DJ1(m,c,x))>0.1) and (abs(DJ0(m,c,1))>0.1):\n",
        " c = c - a*DJ0(m,c,1)\n",
        " m = m - a*DJ1(m,c,x)\n",
        "print(\"slope\",m,\"y-intercept\",c,\"MSE\",mse(m,c))\n",
        "\n",
        "plt.scatter(x,y)\n",
        "plt.plot(x,m*x+c)"
      ],
      "metadata": {
        "colab": {
          "base_uri": "https://localhost:8080/",
          "height": 465
        },
        "id": "8EmrpfDzjKRr",
        "outputId": "b20aa247-7d54-4f8a-83fe-bff3d24efb08"
      },
      "execution_count": 45,
      "outputs": [
        {
          "output_type": "stream",
          "name": "stdout",
          "text": [
            "slope 1.1042877189952247 y-intercept 0.1465644083967771 MSE 0.05112015390105784\n"
          ]
        },
        {
          "output_type": "execute_result",
          "data": {
            "text/plain": [
              "[<matplotlib.lines.Line2D at 0x7c5b3fd4e200>]"
            ]
          },
          "metadata": {},
          "execution_count": 45
        },
        {
          "output_type": "display_data",
          "data": {
            "text/plain": [
              "<Figure size 640x480 with 1 Axes>"
            ],
            "image/png": "[encoded data removed]"
          },
          "metadata": {}
        }
      ]
    },
    {
      "cell_type": "code",
      "source": [],
      "metadata": {
        "id": "QZVSfrXdni1x"
      },
      "execution_count": null,
      "outputs": []
    }
  ]
}